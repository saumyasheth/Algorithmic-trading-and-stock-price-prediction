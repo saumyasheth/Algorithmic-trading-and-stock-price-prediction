{
  "cells": [
    {
      "cell_type": "markdown",
      "metadata": {
        "id": "U1k32GLIm1o5"
      },
      "source": [
        "## Momentum \n",
        "\n",
        "Momentum-based Trading is based on the assumption that Stocks which have performed will in the past, will perform better in the coming future.\n",
        " \n",
        "To define 'past', we take a variable **N**, and say that : \n",
        "\n",
        "<centre> Momentum(For A particular stock) = Close Price(Today) - Close Price(N-day ago) </centre>\n",
        "\n",
        "This gives us our first hyper-parameter (parameters of the model which could be changed in order to improve the model) : **N**\n",
        "\n",
        "We would also be reshuffling our [Portfolio](https://www.investopedia.com/terms/p/portfolio.asp) at certain intervals of time, which gives us our second hyper-parameter: **T** (The time after which we'll be reshuffling our Portfolio)\n",
        "\n",
        "Its never suggested to keep all your money invested, you must have some risk-free assets as well, so that even if you lose some of your cash in trading, you could still place better bets and regain that lost cash, Thus, We get our third Hyper-parameter: **R**, The Ratio of Total Balance, which we will using for investing.\n",
        "\n",
        "You will not be investing in all the 30 Tickers now, Will you? You will choose the top few stocks, which show the highest promise in terms of Momentum, which brings us to another hyper-parameter: **M**, The Number of Top few stocks (based on Momentum), which you'll keep in your Portfolio.\n",
        "\n",
        "Finally, There's some brokerage fee which you need to pay in order to place orders on the stock market, typically its less than 0.05% of the total amount : **F**\n"
      ]
    },
    {
      "cell_type": "code",
      "execution_count": 29,
      "metadata": {
        "id": "GpkE6S0ZjSlB"
      },
      "outputs": [],
      "source": [
        "#Importing Required Libraries\n",
        "import pandas as pd\n",
        "import numpy as np\n",
        "import datetime\n",
        "import matplotlib.pyplot as plt\n",
        "import seaborn as sns\n",
        "\n",
        "#Declaring the Hyperparameters\n",
        "\n",
        "N = 50\n",
        "T = 7\n",
        "R = 0.8\n",
        "M = 5\n",
        "F = 0.0005   # 0.5% Brokerage fee"
      ]
    },
    {
      "cell_type": "markdown",
      "metadata": {
        "id": "DwPazs3-q618"
      },
      "source": [
        "The Second step would be to define a function which reads the Prices of various Stocks into memory.\n",
        "\n",
        "In the file DATA.csv , which we had uploaded in our repository, we have prices of 30 firms enlisted in S & P 500 Index (Apple, IBM, Cisco, Walmart and the like!) from 2nd January 2009 to 17th August 2020.\n",
        "\n",
        "For our purposes, We'll only be requiring certain columns. On an honest note, Just getting the Columns on Ticker, Date and Adjusted Closing Price would do the job, but if you want, you may take Opening Price as well.\n",
        "\n",
        "Read up about the [pandas.read_csv](https://pandas.pydata.org/docs/reference/api/pandas.read_csv.html) function from here, and figure out how you'll use it to do the job (You don't need all the columns!) "
      ]
    },
    {
      "cell_type": "code",
      "execution_count": 30,
      "metadata": {
        "id": "9rsbAPafuUk1"
      },
      "outputs": [],
      "source": [
        "def GetData(NameOfFile):\n",
        "  df = pd.read_csv(NameOfFile, usecols = ['datadate','tic','adjcp','open'])\n",
        "\n",
        "\n",
        "\n",
        "\n",
        "  return df  # pd.DataFrame Object\n",
        "#GetData(\"DATA.csv\")  "
      ]
    },
    {
      "cell_type": "markdown",
      "metadata": {
        "id": "qkWJ29Kquf2B"
      },
      "source": [
        "To aid Data-Manipulation, it would be beneficial, if we split the DataFrame into many small parts each corresponding to the data corresponding to the 30 Tickers on a particular date. These small parts could then be stored in a list.\n",
        "\n",
        "We would also be needing to remember which date is at what index, so that we can use that later. "
      ]
    },
    {
      "cell_type": "code",
      "execution_count": 31,
      "metadata": {
        "id": "d4HLxmu9HTl8"
      },
      "outputs": [],
      "source": [
        "def PartitionData(Data):\n",
        "  \n",
        "  DateToIndex = {}\n",
        "  list = []\n",
        "\n",
        "  a = Data['datadate'].unique()\n",
        "  i=0\n",
        "  for item in a:\n",
        "    \n",
        "    filter = Data['datadate'] == item\n",
        "    df = Data[filter]\n",
        "    list.append(df)\n",
        "    DateToIndex[item] = i\n",
        "    i = i+1\n",
        "  return list, DateToIndex    # List containing of the Data Partitioned according to Date, and the Dictionary mapping Dates to their index in the list \n",
        "#df1 = GetData(\"DATA.csv\")\n",
        "#PartitionData(df1)[1][20090102]"
      ]
    },
    {
      "cell_type": "markdown",
      "metadata": {
        "id": "peRRNuUQOnVM"
      },
      "source": [
        "Now, We need a function to calculate the Momentum value for all of our 30 Tickers.\n",
        "To do this, We need to have a few things in mind:\n",
        "\n",
        "\n",
        "1.   We need to start at Nth day in our list, as only then we'll be able to calculate the Momentum (This will be taken care of by later parts of the Program, when we actually run the Model)\n",
        "\n",
        "2.   The Stock Market isn't open on all days, so we often won't be able to go N days behind, and will have to take the closest value instead(We can't just go N entries behind in the List we created and expect that to work, Why?) In order to work with dates, you should get to know more about the datetime library of Python from [here](https://thispointer.com/python-how-to-convert-datetime-object-to-string-using-datetime-strftime/) (Especially the datetime.strftime() function) and about the [datetime.timedelta()](https://www.studytonight.com/python-howtos/how-to-add-days-to-date-in-python) function.\n",
        "\n",
        "Also, as you may have figured it out yourself, while DataFrames are great for Data Handling and small statistical calculations, They aren't so for big calculations as the Numpy Library has both a richer variety of functions for such manipulations and is also more efficient!\n",
        "\n",
        "After we calculate the Momentum for all our Tickers, it would be a great thing to do, if we could divide their prices by their mean(in the N day interval, as we need to see which stock outperforms others and in order to do this, it won't be fair if we take the absolute growth in numbers!(Why?)\n",
        "\n"
      ]
    },
    {
      "cell_type": "code",
      "execution_count": 32,
      "metadata": {
        "id": "tMKHAcBnSG5n"
      },
      "outputs": [],
      "source": [
        "def GetMomentumBasedPriority(PartitionedDataFrameList, DateToIndex ,today):\n",
        "  # PartitionedDataFrameList : Pandas DataFrame, The Output of your last function\n",
        "  # DateToIndex : Dictionary mapping dates to their index in the PartitionedDataFrameList\n",
        "  # today :  Today's date (string) In Format: YYYYMMDD\n",
        "\n",
        "\n",
        "  #NdaysAgo is a datatime.date() object contining the required data, you need to convert it to a string and then check if its\n",
        "  #actually there in the Data you have or will you have to get going using some other nearest date\n",
        "\n",
        "  NdaysAgo = datetime.date(int(today[0:4]),int(today[4:6]),int(today[6:])) + datetime.timedelta(days = -N)\n",
        "\n",
        "  #START CODE HERE!\n",
        "  df2 = pd.read_csv('DATA.csv')\n",
        "  uniqtickers = df2['tic'].unique()\n",
        "  momentum = []\n",
        "  mean = []\n",
        "  df = PartitionedDataFrameList[DateToIndex[today]]\n",
        "  df1 = PartitionedDataFrameList[DateToIndex[NdaysAgo]]\n",
        "  start = DateToIndex[NdaysAgo]\n",
        "  end = DateToIndex[today]\n",
        "  sum = 0\n",
        "  for items in uniqtickers:\n",
        "    a = df['tic'].index(items)\n",
        "    a1 = df1['tic'].index(items)\n",
        "    m = df['adjcp'][a] - df['adjcp'][a1]\n",
        "    momentum.append(m)\n",
        "    for i in range(start,end + 1):\n",
        "      df4 = PartitionedDataFrameList[i]\n",
        "      a2 = df4['tic'].index(items)\n",
        "      sum = sum + df4['adjcp'][a2]\n",
        "    mea = sum/(end - start + 1)\n",
        "    mean.append(mea)\n",
        "    sum=0\n",
        "  arr = np.array()\n",
        "  for i in range(len(mean)):\n",
        "    x = momentum[i]/mean[i]\n",
        "    arr.append(x)\n",
        "  return arr   #Numpy Array containing the Momentum divided by mean(in the N-day period considered) of all the 30 tickers, in the required order.\n",
        "\n"
      ]
    },
    {
      "cell_type": "markdown",
      "metadata": {
        "id": "s5QOHJ9Ra00l"
      },
      "source": [
        "Even after you have got your Momentum-based priorities, and have decided which stocks to buy and what will be the weight of each, you still need to figure out how much of each will you buy. To do this, first you'll sell all your pre-owned stocks which will increase your cash in hand, then you'll know the stocks to buy and their relative weights (given by their Momentum/mean) and you need a function which tells you how many stocks to buy for each ticker!"
      ]
    },
    {
      "cell_type": "code",
      "execution_count": 33,
      "metadata": {
        "id": "cQg8OWVg_qo5"
      },
      "outputs": [],
      "source": [
        "def GetBalanced(prices, weights,balance):\n",
        "  # prices : Numpy array containing Prices of all the 30 Stocks\n",
        "  # weights : Multi-hot Numpy Array : The Elements corresponding to stocks which are to be bought(Top M Stocks with positive Momentum Indicator) are set to their priority, All other elements are set to zero.\n",
        "  # Returns Numpy array containing the number of shares to buy for each stock!\n",
        "  arr = np.array()\n",
        "  for i in range(len(prices)):\n",
        "    d = weights[i]/prices[i]\n",
        "    arr.append(d)\n",
        "    \n",
        "  return(arr)\n",
        "\n",
        "\n",
        "  \n",
        "   "
      ]
    },
    {
      "cell_type": "markdown",
      "metadata": {
        "id": "WWN9ri-rIb3e"
      },
      "source": [
        "Now, We need something to simulate our [Portfolio](https://www.investopedia.com/terms/p/portfolio.asp). In order to do that we need a class, which has certain  basic features and functionalities.\n",
        "\n",
        "Features : \n",
        "\n",
        "\n",
        "1.   Your Initial Balance\n",
        "2.   Your Current Balance\n",
        "3.   A list(/any other container) storing the number of stocks of each ticker currently in possession. (Numpy Array prefered)\n",
        "4.   Most recent prices of all the stocks (As a Numpy array)\n",
        "\n",
        "Functionalities: \n",
        "\n",
        "\n",
        "\n",
        "1.   Calculating current Net Worth (Balance+Total Evaluation of all Stocks owned!) \n",
        "2.   Buying a Particular Stock (Keep the Transaction fee in mind!)\n",
        "3.   Selling a particular Stock whole (Keep the Transaction Fee in mind!)\n",
        "4.   Rebalance Portfolio  (Takes Numpy array as input)\n",
        "5.   Function to change the value of most recent prices stored (Takes Numpy array as input)\n",
        "\n",
        "\n",
        "\n"
      ]
    },
    {
      "cell_type": "code",
      "execution_count": 34,
      "metadata": {
        "id": "gi60d9qUNO0_"
      },
      "outputs": [],
      "source": [
        "class PortFolio:\n",
        "  def __init__(self, bal, F, M, R, cur_prices=np.zeros(30)):\n",
        "    self.prices = cur_prices\n",
        "    self.bal = bal * R\n",
        "    self.sav = bal * (1 - R)\n",
        "    self.cnt = np.zeros(30, dtype=np.int32)\n",
        "    self.F = F # brokerage fee\n",
        "    self.M = M\n",
        "    self.R = R\n",
        "  \n",
        "  def SellAll(self):\n",
        "    cur = np.dot(self.prices, self.cnt)\n",
        "    self.bal += cur * (1 - self.F)\n",
        "\n",
        "  def SellStock(self, index):\n",
        "    #index : The index of the Stock to sell (0-29)\n",
        "    pass\n",
        "\n",
        "  def BuyStock(self, index, number):\n",
        "    #index : The index of the Stock to buy (0-29) \n",
        "    #number : Number of shares to buy (float)\n",
        "    cur = self.prices[index] * number\n",
        "    self.bal -= cur * (1 + self.F)\n",
        "\n",
        "  def CalculateNetWorth(self):\n",
        "    #Return Net Worth (All Shares' costs+ Balance)\n",
        "    return np.dot(self.prices, self.cnt) + self.bal + self.sav\n",
        "\n",
        "\n",
        "  def ChangePricesTo(self, newPriceVector):\n",
        "  # newPriceVector : Numpy array containing the prices of all the stocks for the current day\n",
        "    self.prices = np.array(newPriceVector)\n",
        "\n",
        "  def RebalancePortFolio(self, newWeights):  \n",
        "    # newWeights : Numpy array containing Momentum/Mean for all stocks in the N-day period\n",
        "    # First sell all your pre-owned Stock (make sure to take transaction fee into account!)\n",
        "    # This would change your total balance\n",
        "    # Then take the top M(/might be less than M, if >(30-M) had negative Momentum) and send them to the GetBalanced() Function\n",
        "    # Then take that output and pass them to the BuyStocks function!\n",
        "    self.SellAll()\n",
        "        \n",
        "    cur_bal = self.CalculateNetWorth()\n",
        "        \n",
        "    self.bal = cur_bal * self.R\n",
        "    self.sav = cur_bal - self.bal\n",
        "        \n",
        "    M_1_th_largest = np.partition(newWeights, -(self.M + 1))[-(self.M + 1)]\n",
        "    threshold = max(0.0, M_1_th_largest)\n",
        "    weights = np.where(newWeights > threshold, newWeights, 0)\n",
        "    weights[weights > 0] = 1.0\n",
        "        \n",
        "        ## taking account of brokerage fee\n",
        "    self.cnt = GetBalanced(self.prices*(1 + self.F), weights, self.bal)\n",
        "        \n",
        "        \n",
        "    print(weights)\n",
        "    print(self.cnt)\n",
        "    print(self.prices)\n",
        "    print(\"before : \", self.bal)\n",
        "        \n",
        "    for idx, x in enumerate(self.cnt):\n",
        "      self.BuyStock(idx, x)\n",
        "        \n",
        "    print(\"after : \", self.bal)\n",
        "    \n",
        "\n",
        "\n",
        "\n"
      ]
    },
    {
      "cell_type": "markdown",
      "metadata": {
        "id": "PKiLs-6TB6mU"
      },
      "source": [
        "With that the difficult part is over!\n",
        "\n",
        "Now, all you need to work on is a main loop, which calls all these functions"
      ]
    },
    {
      "cell_type": "code",
      "execution_count": 35,
      "metadata": {
        "id": "zjo2KrcaCmqf"
      },
      "outputs": [
        {
          "ename": "ValueError",
          "evalue": "shapes (4,) and (30,) not aligned: 4 (dim 0) != 30 (dim 0)",
          "output_type": "error",
          "traceback": [
            "\u001b[1;31m---------------------------------------------------------------------------\u001b[0m",
            "\u001b[1;31mValueError\u001b[0m                                Traceback (most recent call last)",
            "Cell \u001b[1;32mIn [35], line 24\u001b[0m\n\u001b[0;32m     20\u001b[0m prices \u001b[39m=\u001b[39m np\u001b[39m.\u001b[39marray([row[\u001b[39m1\u001b[39m] \u001b[39mfor\u001b[39;00m row \u001b[39min\u001b[39;00m PartitionedData[DateToIndex[date_str]]])\n\u001b[0;32m     22\u001b[0m myPortfolio\u001b[39m.\u001b[39mChangePricesTo(prices)\n\u001b[1;32m---> 24\u001b[0m NetWorthAfterEachTrade\u001b[39m.\u001b[39mappend(myPortfolio\u001b[39m.\u001b[39;49mCalculateNetWorth())\n\u001b[0;32m     26\u001b[0m \u001b[39mif\u001b[39;00m(dates_cnt \u001b[39m>\u001b[39m \u001b[39m0\u001b[39m \u001b[39mand\u001b[39;00m dates_cnt \u001b[39m%\u001b[39m N \u001b[39m==\u001b[39m \u001b[39m0\u001b[39m):\n\u001b[0;32m     28\u001b[0m     \u001b[39mprint\u001b[39m(dates_cnt \u001b[39m/\u001b[39m N)\n",
            "Cell \u001b[1;32mIn [34], line 27\u001b[0m, in \u001b[0;36mPortFolio.CalculateNetWorth\u001b[1;34m(self)\u001b[0m\n\u001b[0;32m     25\u001b[0m \u001b[39mdef\u001b[39;00m \u001b[39mCalculateNetWorth\u001b[39m(\u001b[39mself\u001b[39m):\n\u001b[0;32m     26\u001b[0m   \u001b[39m#Return Net Worth (All Shares' costs+ Balance)\u001b[39;00m\n\u001b[1;32m---> 27\u001b[0m   \u001b[39mreturn\u001b[39;00m np\u001b[39m.\u001b[39;49mdot(\u001b[39mself\u001b[39;49m\u001b[39m.\u001b[39;49mprices, \u001b[39mself\u001b[39;49m\u001b[39m.\u001b[39;49mcnt) \u001b[39m+\u001b[39m \u001b[39mself\u001b[39m\u001b[39m.\u001b[39mbal \u001b[39m+\u001b[39m \u001b[39mself\u001b[39m\u001b[39m.\u001b[39msav\n",
            "File \u001b[1;32m<__array_function__ internals>:180\u001b[0m, in \u001b[0;36mdot\u001b[1;34m(*args, **kwargs)\u001b[0m\n",
            "\u001b[1;31mValueError\u001b[0m: shapes (4,) and (30,) not aligned: 4 (dim 0) != 30 (dim 0)"
          ]
        }
      ],
      "source": [
        "init_bal = 100\n",
        "myPortfolio = PortFolio(init_bal, F, M, R)\n",
        "NetWorthAfterEachTrade = []\n",
        "\n",
        "\n",
        "#First Get the Data\n",
        "Data = GetData('DATA.csv')\n",
        "PartitionedData, DateToIndex=PartitionData(Data)\n",
        "sorted_dates = [datetime.date(int(str(x)[0:4]),int(str(x)[4:6]),int(str(x)[6:])) for x in DateToIndex.keys()]\n",
        "sorted_dates.sort()\n",
        "dates_cnt = 0\n",
        "#Start processing from the (N+1)th Day(among the ones recorded in the Data)\n",
        "for today in sorted_dates:\n",
        "    # Change the Prices to the ith Term\n",
        "    # Get NetWorth and store in list\n",
        "    # Check if you need to rebalance Portfolio's Today\n",
        "    # If so, do it by Calling first the GetMomentumBasedPriority function and then passing it to the rebalance function\n",
        "    date_str = int(today.strftime('%Y%m%d'))\n",
        "\n",
        "    prices = np.array([row[1] for row in PartitionedData[DateToIndex[date_str]]])\n",
        "\n",
        "    myPortfolio.ChangePricesTo(prices)\n",
        "    \n",
        "    NetWorthAfterEachTrade.append(myPortfolio.CalculateNetWorth())\n",
        "    \n",
        "    if(dates_cnt > 0 and dates_cnt % N == 0):\n",
        "        \n",
        "        print(dates_cnt / N)\n",
        "        \n",
        "        print(\"-\"*50)\n",
        "        \n",
        "        new_priorities = GetMomentumBasedPriority(PartitionedData, DateToIndex, str(date_str))\n",
        "\n",
        "        myPortfolio.RebalancePortFolio(new_priorities)\n",
        "        \n",
        "        print(\"-\"*50)\n",
        "    \n",
        "    dates_cnt += 1\n",
        "\n",
        "\n",
        "\n",
        "\n",
        "\n",
        "  "
      ]
    },
    {
      "cell_type": "markdown",
      "metadata": {
        "id": "rHB126bDE2Kn"
      },
      "source": [
        "##Moment of Truth\n",
        "\n",
        "Time to check, if your Program actually works!\n",
        "\n",
        "Plot the data you collected in various ways and see if what you did worked!\n",
        "\n",
        "Feel free to use whichever one of Matplotlib or Seaborn you want to.\n",
        "\n",
        "You should try changing the hyper-parameters to increase(/decrease) your performance!\n"
      ]
    },
    {
      "cell_type": "code",
      "execution_count": null,
      "metadata": {
        "id": "Z3AVQq09FxYm"
      },
      "outputs": [],
      "source": [
        "def VizualizeData(________________):\n",
        "\n",
        "\n",
        "\n",
        "\n",
        "\n",
        "\n",
        "\n",
        "\n",
        "\n",
        "  "
      ]
    },
    {
      "cell_type": "markdown",
      "metadata": {
        "id": "cZoWhY8X9BSR"
      },
      "source": [
        "You may use this cell to write about what results you got!"
      ]
    }
  ],
  "metadata": {
    "colab": {
      "collapsed_sections": [],
      "name": "Momentum.ipynb",
      "provenance": []
    },
    "kernelspec": {
      "display_name": "Python 3",
      "language": "python",
      "name": "python3"
    },
    "language_info": {
      "codemirror_mode": {
        "name": "ipython",
        "version": 3
      },
      "file_extension": ".py",
      "mimetype": "text/x-python",
      "name": "python",
      "nbconvert_exporter": "python",
      "pygments_lexer": "ipython3",
      "version": "3.10.4"
    },
    "vscode": {
      "interpreter": {
        "hash": "31671a60cee805c34c73116577b485118ff3a75c458d3004d49632c19702ac60"
      }
    }
  },
  "nbformat": 4,
  "nbformat_minor": 0
}
