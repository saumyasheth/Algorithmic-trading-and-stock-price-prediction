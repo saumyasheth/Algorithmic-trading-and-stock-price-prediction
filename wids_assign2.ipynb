{
 "cells": [
  {
   "cell_type": "code",
   "execution_count": 2,
   "metadata": {},
   "outputs": [],
   "source": [
    "import numpy as np\n",
    "import pandas as pd\n",
    "import matplotlib.pyplot as plt\n"
   ]
  },
  {
   "cell_type": "code",
   "execution_count": 3,
   "metadata": {},
   "outputs": [
    {
     "name": "stderr",
     "output_type": "stream",
     "text": [
      "C:\\Users\\ADMIN\\AppData\\Local\\Temp\\ipykernel_26672\\1883981887.py:4: FutureWarning: The frame.append method is deprecated and will be removed from pandas in a future version. Use pandas.concat instead.\n",
      "  df4 = df1.append(df2, ignore_index=True)\n",
      "C:\\Users\\ADMIN\\AppData\\Local\\Temp\\ipykernel_26672\\1883981887.py:5: FutureWarning: The frame.append method is deprecated and will be removed from pandas in a future version. Use pandas.concat instead.\n",
      "  dfcombined = df4.append(df3)\n"
     ]
    },
    {
     "data": {
      "text/html": [
       "<div>\n",
       "<style scoped>\n",
       "    .dataframe tbody tr th:only-of-type {\n",
       "        vertical-align: middle;\n",
       "    }\n",
       "\n",
       "    .dataframe tbody tr th {\n",
       "        vertical-align: top;\n",
       "    }\n",
       "\n",
       "    .dataframe thead th {\n",
       "        text-align: right;\n",
       "    }\n",
       "</style>\n",
       "<table border=\"1\" class=\"dataframe\">\n",
       "  <thead>\n",
       "    <tr style=\"text-align: right;\">\n",
       "      <th></th>\n",
       "      <th>Unnamed: 0.1</th>\n",
       "      <th>Unnamed: 0</th>\n",
       "      <th>event_time</th>\n",
       "      <th>event_type</th>\n",
       "      <th>product_id</th>\n",
       "      <th>category_id</th>\n",
       "      <th>category_code</th>\n",
       "      <th>brand</th>\n",
       "      <th>price</th>\n",
       "      <th>user_id</th>\n",
       "      <th>user_session</th>\n",
       "    </tr>\n",
       "  </thead>\n",
       "  <tbody>\n",
       "    <tr>\n",
       "      <th>0</th>\n",
       "      <td>0</td>\n",
       "      <td>0</td>\n",
       "      <td>2019-10-01 00:00:00 UTC</td>\n",
       "      <td>cart</td>\n",
       "      <td>5773203.0</td>\n",
       "      <td>1.487580e+18</td>\n",
       "      <td>NaN</td>\n",
       "      <td>runail</td>\n",
       "      <td>2.62</td>\n",
       "      <td>463240011.0</td>\n",
       "      <td>26dd6e6e-4dac-4778-8d2c-92e149dab885</td>\n",
       "    </tr>\n",
       "    <tr>\n",
       "      <th>1</th>\n",
       "      <td>1</td>\n",
       "      <td>1</td>\n",
       "      <td>2019-10-01 00:00:03 UTC</td>\n",
       "      <td>cart</td>\n",
       "      <td>5773353.0</td>\n",
       "      <td>1.487580e+18</td>\n",
       "      <td>NaN</td>\n",
       "      <td>runail</td>\n",
       "      <td>2.62</td>\n",
       "      <td>463240011.0</td>\n",
       "      <td>26dd6e6e-4dac-4778-8d2c-92e149dab885</td>\n",
       "    </tr>\n",
       "    <tr>\n",
       "      <th>2</th>\n",
       "      <td>2</td>\n",
       "      <td>2</td>\n",
       "      <td>2019-10-01 00:00:07 UTC</td>\n",
       "      <td>cart</td>\n",
       "      <td>5881589.0</td>\n",
       "      <td>2.151191e+18</td>\n",
       "      <td>NaN</td>\n",
       "      <td>lovely</td>\n",
       "      <td>13.48</td>\n",
       "      <td>429681830.0</td>\n",
       "      <td>49e8d843-adf3-428b-a2c3-fe8bc6a307c9</td>\n",
       "    </tr>\n",
       "    <tr>\n",
       "      <th>3</th>\n",
       "      <td>3</td>\n",
       "      <td>3</td>\n",
       "      <td>2019-10-01 00:00:07 UTC</td>\n",
       "      <td>cart</td>\n",
       "      <td>5723490.0</td>\n",
       "      <td>1.487580e+18</td>\n",
       "      <td>NaN</td>\n",
       "      <td>runail</td>\n",
       "      <td>2.62</td>\n",
       "      <td>463240011.0</td>\n",
       "      <td>26dd6e6e-4dac-4778-8d2c-92e149dab885</td>\n",
       "    </tr>\n",
       "    <tr>\n",
       "      <th>4</th>\n",
       "      <td>4</td>\n",
       "      <td>4</td>\n",
       "      <td>2019-10-01 00:00:15 UTC</td>\n",
       "      <td>cart</td>\n",
       "      <td>5881449.0</td>\n",
       "      <td>1.487580e+18</td>\n",
       "      <td>NaN</td>\n",
       "      <td>lovely</td>\n",
       "      <td>0.56</td>\n",
       "      <td>429681830.0</td>\n",
       "      <td>49e8d843-adf3-428b-a2c3-fe8bc6a307c9</td>\n",
       "    </tr>\n",
       "    <tr>\n",
       "      <th>...</th>\n",
       "      <td>...</td>\n",
       "      <td>...</td>\n",
       "      <td>...</td>\n",
       "      <td>...</td>\n",
       "      <td>...</td>\n",
       "      <td>...</td>\n",
       "      <td>...</td>\n",
       "      <td>...</td>\n",
       "      <td>...</td>\n",
       "      <td>...</td>\n",
       "      <td>...</td>\n",
       "    </tr>\n",
       "    <tr>\n",
       "      <th>20281</th>\n",
       "      <td>20281</td>\n",
       "      <td>3533281</td>\n",
       "      <td>2019-12-31 23:59:39 UTC</td>\n",
       "      <td>view</td>\n",
       "      <td>5683350.0</td>\n",
       "      <td>1.487580e+18</td>\n",
       "      <td>NaN</td>\n",
       "      <td>masura</td>\n",
       "      <td>2.84</td>\n",
       "      <td>536812729.0</td>\n",
       "      <td>e4a2d47c-a956-4c46-8176-745f52ea664b</td>\n",
       "    </tr>\n",
       "    <tr>\n",
       "      <th>20282</th>\n",
       "      <td>20282</td>\n",
       "      <td>3533282</td>\n",
       "      <td>2019-12-31 23:59:46 UTC</td>\n",
       "      <td>view</td>\n",
       "      <td>5888097.0</td>\n",
       "      <td>1.487580e+18</td>\n",
       "      <td>NaN</td>\n",
       "      <td>shik</td>\n",
       "      <td>179.05</td>\n",
       "      <td>503658154.0</td>\n",
       "      <td>2dde9867-9e71-4a64-880d-aa68b66aae6d</td>\n",
       "    </tr>\n",
       "    <tr>\n",
       "      <th>20283</th>\n",
       "      <td>20283</td>\n",
       "      <td>3533283</td>\n",
       "      <td>2019-12-31 23:59:51 UTC</td>\n",
       "      <td>view</td>\n",
       "      <td>59975.0</td>\n",
       "      <td>1.487580e+18</td>\n",
       "      <td>NaN</td>\n",
       "      <td>NaN</td>\n",
       "      <td>7.14</td>\n",
       "      <td>595414541.0</td>\n",
       "      <td>4c6d80bb-5dd3-4fbb-b592-187b51db2753</td>\n",
       "    </tr>\n",
       "    <tr>\n",
       "      <th>20284</th>\n",
       "      <td>20284</td>\n",
       "      <td>3533284</td>\n",
       "      <td>2019-12-31 23:59:52 UTC</td>\n",
       "      <td>view</td>\n",
       "      <td>5775982.0</td>\n",
       "      <td>1.783999e+18</td>\n",
       "      <td>NaN</td>\n",
       "      <td>NaN</td>\n",
       "      <td>11.90</td>\n",
       "      <td>397780878.0</td>\n",
       "      <td>7e8a2b85-153a-44eb-a71f-b748fde14fcc</td>\n",
       "    </tr>\n",
       "    <tr>\n",
       "      <th>20285</th>\n",
       "      <td>20285</td>\n",
       "      <td>3533285</td>\n",
       "      <td>2019-12-31 23:59:57 UTC</td>\n",
       "      <td>view</td>\n",
       "      <td>5635090.0</td>\n",
       "      <td>1.487580e+18</td>\n",
       "      <td>NaN</td>\n",
       "      <td>NaN</td>\n",
       "      <td>4.44</td>\n",
       "      <td>420652863.0</td>\n",
       "      <td>546f6af3-a517-4752-a98b-80c4c5860711</td>\n",
       "    </tr>\n",
       "  </tbody>\n",
       "</table>\n",
       "<p>62646 rows × 11 columns</p>\n",
       "</div>"
      ],
      "text/plain": [
       "       Unnamed: 0.1  Unnamed: 0               event_time event_type  \\\n",
       "0                 0           0  2019-10-01 00:00:00 UTC       cart   \n",
       "1                 1           1  2019-10-01 00:00:03 UTC       cart   \n",
       "2                 2           2  2019-10-01 00:00:07 UTC       cart   \n",
       "3                 3           3  2019-10-01 00:00:07 UTC       cart   \n",
       "4                 4           4  2019-10-01 00:00:15 UTC       cart   \n",
       "...             ...         ...                      ...        ...   \n",
       "20281         20281     3533281  2019-12-31 23:59:39 UTC       view   \n",
       "20282         20282     3533282  2019-12-31 23:59:46 UTC       view   \n",
       "20283         20283     3533283  2019-12-31 23:59:51 UTC       view   \n",
       "20284         20284     3533284  2019-12-31 23:59:52 UTC       view   \n",
       "20285         20285     3533285  2019-12-31 23:59:57 UTC       view   \n",
       "\n",
       "       product_id   category_id category_code   brand   price      user_id  \\\n",
       "0       5773203.0  1.487580e+18           NaN  runail    2.62  463240011.0   \n",
       "1       5773353.0  1.487580e+18           NaN  runail    2.62  463240011.0   \n",
       "2       5881589.0  2.151191e+18           NaN  lovely   13.48  429681830.0   \n",
       "3       5723490.0  1.487580e+18           NaN  runail    2.62  463240011.0   \n",
       "4       5881449.0  1.487580e+18           NaN  lovely    0.56  429681830.0   \n",
       "...           ...           ...           ...     ...     ...          ...   \n",
       "20281   5683350.0  1.487580e+18           NaN  masura    2.84  536812729.0   \n",
       "20282   5888097.0  1.487580e+18           NaN    shik  179.05  503658154.0   \n",
       "20283     59975.0  1.487580e+18           NaN     NaN    7.14  595414541.0   \n",
       "20284   5775982.0  1.783999e+18           NaN     NaN   11.90  397780878.0   \n",
       "20285   5635090.0  1.487580e+18           NaN     NaN    4.44  420652863.0   \n",
       "\n",
       "                               user_session  \n",
       "0      26dd6e6e-4dac-4778-8d2c-92e149dab885  \n",
       "1      26dd6e6e-4dac-4778-8d2c-92e149dab885  \n",
       "2      49e8d843-adf3-428b-a2c3-fe8bc6a307c9  \n",
       "3      26dd6e6e-4dac-4778-8d2c-92e149dab885  \n",
       "4      49e8d843-adf3-428b-a2c3-fe8bc6a307c9  \n",
       "...                                     ...  \n",
       "20281  e4a2d47c-a956-4c46-8176-745f52ea664b  \n",
       "20282  2dde9867-9e71-4a64-880d-aa68b66aae6d  \n",
       "20283  4c6d80bb-5dd3-4fbb-b592-187b51db2753  \n",
       "20284  7e8a2b85-153a-44eb-a71f-b748fde14fcc  \n",
       "20285  546f6af3-a517-4752-a98b-80c4c5860711  \n",
       "\n",
       "[62646 rows x 11 columns]"
      ]
     },
     "execution_count": 3,
     "metadata": {},
     "output_type": "execute_result"
    }
   ],
   "source": [
    "df1 = pd.read_csv('data_october.csv')\n",
    "df2 = pd.read_csv('data_november.csv')\n",
    "df3 = pd.read_csv('data_december.csv')\n",
    "df4 = df1.append(df2, ignore_index=True)\n",
    "dfcombined = df4.append(df3)\n",
    "dfcombined"
   ]
  },
  {
   "cell_type": "code",
   "execution_count": 4,
   "metadata": {},
   "outputs": [
    {
     "data": {
      "text/plain": [
       "array(['cart', 'view', 'remove_from_cart', 'purchase', nan], dtype=object)"
      ]
     },
     "execution_count": 4,
     "metadata": {},
     "output_type": "execute_result"
    }
   ],
   "source": [
    "dfcombined['event_type'].unique()"
   ]
  },
  {
   "attachments": {},
   "cell_type": "markdown",
   "metadata": {},
   "source": [
    "### Monthwise Sales"
   ]
  },
  {
   "cell_type": "code",
   "execution_count": 5,
   "metadata": {},
   "outputs": [
    {
     "name": "stdout",
     "output_type": "stream",
     "text": [
      "9062.960000000001\n",
      "7201.58\n",
      "5951.16\n"
     ]
    },
    {
     "data": {
      "text/plain": [
       "<BarContainer object of 3 artists>"
      ]
     },
     "execution_count": 5,
     "metadata": {},
     "output_type": "execute_result"
    },
    {
     "data": {
      "image/png": "[encoded data removed]",
      "text/plain": [
       "<Figure size 640x480 with 1 Axes>"
      ]
     },
     "metadata": {},
     "output_type": "display_data"
    }
   ],
   "source": [
    "filter1 = df1['event_type'] == 'purchase'\n",
    "print(df1[filter1]['price'].sum())\n",
    "filter2 = df2['event_type'] == 'purchase'\n",
    "print(df2[filter2]['price'].sum())\n",
    "filter3 = df3['event_type'] == 'purchase'\n",
    "print(df3[filter3]['price'].sum())\n",
    "listx = ['October', 'November', 'December']\n",
    "listy = [df1[filter1]['price'].sum(),df2[filter2]['price'].sum(),df3[filter3]['price'].sum()]\n",
    "plt.bar(listx, listy)"
   ]
  },
  {
   "cell_type": "code",
   "execution_count": 6,
   "metadata": {},
   "outputs": [
    {
     "data": {
      "text/plain": [
       "15718"
      ]
     },
     "execution_count": 6,
     "metadata": {},
     "output_type": "execute_result"
    }
   ],
   "source": [
    "dfcombined['product_id'].nunique()"
   ]
  },
  {
   "cell_type": "code",
   "execution_count": 7,
   "metadata": {},
   "outputs": [
    {
     "data": {
      "text/plain": [
       "'1 '"
      ]
     },
     "execution_count": 7,
     "metadata": {},
     "output_type": "execute_result"
    }
   ],
   "source": [
    "a = str(dfcombined['event_time'][1])\n",
    "b = a[14] + a[15]\n",
    "c = int(b)\n",
    "b"
   ]
  },
  {
   "cell_type": "code",
   "execution_count": 8,
   "metadata": {},
   "outputs": [
    {
     "data": {
      "image/png": "[encoded data removed]",
      "text/plain": [
       "<Figure size 640x480 with 1 Axes>"
      ]
     },
     "metadata": {},
     "output_type": "display_data"
    }
   ],
   "source": [
    "e = dfcombined['brand'].value_counts()\n",
    "etop = []\n",
    "eindextop = []\n",
    "for i in range(0,10):\n",
    "    etop.append(e[i])\n",
    "    eindextop.append(e.index[i])\n",
    "plt.bar(eindextop, etop)\n",
    "ab = plt.gca()\n",
    "plt.title('Top 10 brands according to activity')\n",
    "for tick in ab.get_xticklabels(): \n",
    "    tick.set_rotation(90)\n",
    "plt.show()  "
   ]
  },
  {
   "cell_type": "code",
   "execution_count": 9,
   "metadata": {},
   "outputs": [
    {
     "data": {
      "image/png": "[encoded data removed]",
      "text/plain": [
       "<Figure size 640x480 with 1 Axes>"
      ]
     },
     "metadata": {},
     "output_type": "display_data"
    }
   ],
   "source": [
    "filter = dfcombined['event_type'] == 'purchase'\n",
    "e = dfcombined[filter]['brand'].value_counts()\n",
    "etop = []\n",
    "eindextop = []\n",
    "for i in range(0,10):\n",
    "    etop.append(e[i])\n",
    "    eindextop.append(e.index[i])\n",
    "plt.bar(eindextop, etop)\n",
    "ab = plt.gca()\n",
    "plt.title('Top 10 brands according to purchase')\n",
    "for tick in ab.get_xticklabels(): \n",
    "    tick.set_rotation(90)\n",
    "plt.show()  "
   ]
  }
 ],
 "metadata": {
  "kernelspec": {
   "display_name": "Python 3",
   "language": "python",
   "name": "python3"
  },
  "language_info": {
   "codemirror_mode": {
    "name": "ipython",
    "version": 3
   },
   "file_extension": ".py",
   "mimetype": "text/x-python",
   "name": "python",
   "nbconvert_exporter": "python",
   "pygments_lexer": "ipython3",
   "version": "3.10.4 (tags/v3.10.4:9d38120, Mar 23 2022, 23:13:41) [MSC v.1929 64 bit (AMD64)]"
  },
  "orig_nbformat": 4,
  "vscode": {
   "interpreter": {
    "hash": "31671a60cee805c34c73116577b485118ff3a75c458d3004d49632c19702ac60"
   }
  }
 },
 "nbformat": 4,
 "nbformat_minor": 2
}
